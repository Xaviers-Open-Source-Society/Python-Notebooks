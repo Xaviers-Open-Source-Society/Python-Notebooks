{
 "cells": [
  {
   "cell_type": "markdown",
   "metadata": {},
   "source": [
    "<h2> STRING </h2>\n",
    "String can be used to represent anything that can be coded in text or bytes. Text can include all symbols and words(eg. name), content of files loaded in memory, Internet addresses, Python source code, etc.  Strings can also be used to hold the raw bytes used for media files and network transfers, and both the encoded and decoded forms of non ASCII Unicode text used in internationalized programs. Python's strings somewhat resemble character array in languages such as C. But unlike C Python's strings come with a powerful set of processing tools and also it does not have a distinct type for individual characters instead we use one-character strings. Python strings are characterised as immutable sequences which means they have a certain left-to-right positional arrangement that cannot be changed. Strings are the first representatives of the larger class of objects called sequences.\n",
    "<br>\n",
    "STRING LITERALS\n",
    "<br>\n",
    "There are a number of ways to write stings in Python. They are listed below:\n",
    "<br>\n",
    "• Single quotes: 'spa\"m' \n",
    "<br>• Double quotes: \"spa'm\" \n",
    "<br>• Triple quotes: '''... spam ...''', \"\"\"... spam ...\"\"\" \n",
    "<br>• Escape sequences: \"s\\tp\\na\\0m\" \n",
    "<br>• Raw strings: r\"C:\\new\\test.spm\" \n",
    "<br>• Bytes literals in 3.X and 2.6+ : b'sp\\x01am' \n",
    "<br>• Unicode literals in 2.X and 3.3+: u'eggs\\u0020spam'\n",
    "<br>\n",
    "The single and double-quoted forms are commonly used while the rest serve specialized roles.\n",
    "<br>\n",
    "<h2> Single and Double-Quoted Strings Are the Same </h2>\n",
    "\n",
    "In Pyhton strings, single and double-quoted characters function the same way and are interchangeable. For example:\n"
   ]
  },
  {
   "cell_type": "code",
   "execution_count": 4,
   "metadata": {},
   "outputs": [
    {
     "data": {
      "text/plain": [
       "('happy', 'happy')"
      ]
     },
     "execution_count": 4,
     "metadata": {},
     "output_type": "execute_result"
    }
   ],
   "source": [
    ">>> \"happy\",'happy'"
   ]
  },
  {
   "cell_type": "markdown",
   "metadata": {},
   "source": [
    "The reason for allowing both is to allow the use of quote character of the other variety inside a string without escaping it with a backlash.You may embed a single-quote character in a string enclosed in double-quote characters, and vice versa: "
   ]
  },
  {
   "cell_type": "code",
   "execution_count": 5,
   "metadata": {},
   "outputs": [
    {
     "data": {
      "text/plain": [
       "('knight\"s', \"knight's\")"
      ]
     },
     "execution_count": 5,
     "metadata": {},
     "output_type": "execute_result"
    }
   ],
   "source": [
    ">>> 'knight\"s', \"knight's\"  "
   ]
  },
  {
   "cell_type": "markdown",
   "metadata": {},
   "source": [
    "Note that the comma is important here. Without it, Python automatically concatenates adjacent string literals in any expression, although it is almost as simple to add a + operator between them to invoke concatenation"
   ]
  },
  {
   "cell_type": "code",
   "execution_count": 7,
   "metadata": {},
   "outputs": [
    {
     "data": {
      "text/plain": [
       "'meaning of life'"
      ]
     },
     "execution_count": 7,
     "metadata": {},
     "output_type": "execute_result"
    }
   ],
   "source": [
    ">>> a = \"meaning \" 'of' \" life\"\n",
    ">>> a"
   ]
  },
  {
   "cell_type": "markdown",
   "metadata": {},
   "source": [
    "If we add commas in between it would result in a tuple, not a string. Here the string is printed in single quotes unless there is an embed quote. We can also embed quote characters using backslashes to escape them:\n"
   ]
  },
  {
   "cell_type": "code",
   "execution_count": 9,
   "metadata": {},
   "outputs": [
    {
     "data": {
      "text/plain": [
       "(\"today's\", 'today\"s')"
      ]
     },
     "execution_count": 9,
     "metadata": {},
     "output_type": "execute_result"
    }
   ],
   "source": [
    ">>> a = \"today\\'s\" , 'today\\\"s'\n",
    ">>> a"
   ]
  },
  {
   "cell_type": "markdown",
   "metadata": {},
   "source": [
    "<h2> Escape Sequences Represent Special Characters </h2>\n",
    "The last example embedded a quote inside a string by preceding it with a backslash. This is representative of a general pattern in strings: backslashes are used to introduce special character codings known as 'escape sequences'. When we use the character \\ and one or more characters following it in the literal string, they are replaced by a single string object which has binary value specified by the escape sequence. For example, a five-string character that embeds a newline and a tab:\n",
    "\n"
   ]
  },
  {
   "cell_type": "code",
   "execution_count": 11,
   "metadata": {},
   "outputs": [],
   "source": [
    ">>> a = 'a\\nb\\tc'"
   ]
  },
  {
   "cell_type": "markdown",
   "metadata": {},
   "source": [
    "The way the string appears on printing depends on how it is printed.The interactive echo shown below shows the special characters as escapes, but 'print' interprets them instead"
   ]
  },
  {
   "cell_type": "code",
   "execution_count": 12,
   "metadata": {},
   "outputs": [
    {
     "data": {
      "text/plain": [
       "'a\\nb\\tc'"
      ]
     },
     "execution_count": 12,
     "metadata": {},
     "output_type": "execute_result"
    }
   ],
   "source": [
    ">>> a"
   ]
  },
  {
   "cell_type": "code",
   "execution_count": 13,
   "metadata": {},
   "outputs": [
    {
     "name": "stdout",
     "output_type": "stream",
     "text": [
      "a\n",
      "b\tc\n"
     ]
    }
   ],
   "source": [
    ">>> print(a)"
   ]
  },
  {
   "cell_type": "markdown",
   "metadata": {},
   "source": [
    "The built-in len function shows the actual number of characters in the string irrespective of how it is coded or displayed."
   ]
  },
  {
   "cell_type": "code",
   "execution_count": 14,
   "metadata": {},
   "outputs": [
    {
     "data": {
      "text/plain": [
       "5"
      ]
     },
     "execution_count": 14,
     "metadata": {},
     "output_type": "execute_result"
    }
   ],
   "source": [
    ">>> len(a)"
   ]
  },
  {
   "cell_type": "markdown",
   "metadata": {},
   "source": [
    "Absolute binary values can also be embedded into the characters of a string.For instance, here’s a five-character string that embeds two characters with binary zero values:"
   ]
  },
  {
   "cell_type": "code",
   "execution_count": 15,
   "metadata": {},
   "outputs": [
    {
     "data": {
      "text/plain": [
       "'a\\x00b\\x00c'"
      ]
     },
     "execution_count": 15,
     "metadata": {},
     "output_type": "execute_result"
    }
   ],
   "source": [
    ">>> a = 'a\\0b\\0c' \n",
    ">>> a"
   ]
  },
  {
   "cell_type": "code",
   "execution_count": 16,
   "metadata": {},
   "outputs": [
    {
     "data": {
      "text/plain": [
       "5"
      ]
     },
     "execution_count": 16,
     "metadata": {},
     "output_type": "execute_result"
    }
   ],
   "source": [
    ">>> len(a)"
   ]
  },
  {
   "cell_type": "markdown",
   "metadata": {},
   "source": [
    "In Python a null character does not terminate the string the way a null byte does in C. Pyhton keeps both the strings text and length in memory. No character terminates a string in Python.Python displays non-printable characters in hexadecimal irrespective of how they coded. This is important when processing binary data files in Python . Because their contents are represented as strings in your scripts, it’s OK to process binary files that contain any sorts of binary byte values—when opened in binary modes, files return strings of raw bytes from the external file.\n",
    "<br>\n",
    "If Python does not recognize the character after a \\ as being a valid escape code, it keeps the backlash in the resulting string and displays it as \\\\."
   ]
  },
  {
   "cell_type": "code",
   "execution_count": 19,
   "metadata": {},
   "outputs": [
    {
     "data": {
      "text/plain": [
       "'C:\\\\py\\\\code'"
      ]
     },
     "execution_count": 19,
     "metadata": {},
     "output_type": "execute_result"
    }
   ],
   "source": [
    ">>> s = \"C:\\py\\code\"           # Keeps \\ in the result string \n",
    ">>> s "
   ]
  },
  {
   "cell_type": "code",
   "execution_count": 18,
   "metadata": {},
   "outputs": [
    {
     "data": {
      "text/plain": [
       "10"
      ]
     },
     "execution_count": 18,
     "metadata": {},
     "output_type": "execute_result"
    }
   ],
   "source": [
    ">>> len(s)"
   ]
  },
  {
   "cell_type": "markdown",
   "metadata": {},
   "source": [
    "<h2> Raw Strings Suppress Escapes </h2>\n",
    "Sometimes when backslashes for escape sequences are used they may not give the desired output. For instance if we try opening a file as:\n",
    "<br>\n",
    "myfile = open('C:\\new\\text.dat', 'w')\n",
    "<br>\n",
    "to open a file called text.dat in directory C:/new the \\n and \\t get replaced as new line and tab respectively.\n",
    " If however the letter r (uppercase or lowercase) appears just before the opening quote of a string, it turns off the escape mechanism. The result of this is that Python retains the backslash exactly where it's supposed to be. For example:\n",
    " <br>\n",
    "myfile = open(r'C:\\new\\text.dat', 'w')\n",
    "<br>\n",
    "Alternately, two backslashes can be used together since the second one is used to escape the first one.\n",
    "<br>\n",
    "myfile = open('C:\\\\new\\\\text.dat', 'w') \n",
    "<br>\n",
    "<h2> Triple Quotes Code Multiline Block Strings </h2>\n",
    "Python has a triple-quoted string format referred to as 'block string', that is a syntactic convenience for coding multiline text data. It begins with three quotes, either single or double, followed by any number of lines of text and is closed with the same triple quote that opened it. Single and double quotes embedded in the string’s text may be, but do not have to be, escaped. The string does not end until Python sees three unescaped quotes of the same kind used to start the literal."
   ]
  },
  {
   "cell_type": "code",
   "execution_count": 22,
   "metadata": {},
   "outputs": [
    {
     "data": {
      "text/plain": [
       "'This is\\nPython\\ncode.'"
      ]
     },
     "execution_count": 22,
     "metadata": {},
     "output_type": "execute_result"
    }
   ],
   "source": [
    ">>> note = \"\"\"This is\n",
    "Python\n",
    "code.\"\"\"\n",
    ">>> note"
   ]
  },
  {
   "cell_type": "markdown",
   "metadata": {},
   "source": [
    "Pyhton codes all the three lines of triple-quoted text into a single multi-line string with embedded newline characters everytime there's a new line break in the code. To see the code exactly the way it is typed print it instead of echoing it.\n"
   ]
  },
  {
   "cell_type": "code",
   "execution_count": 23,
   "metadata": {},
   "outputs": [
    {
     "name": "stdout",
     "output_type": "stream",
     "text": [
      "This is\n",
      "Python\n",
      "code.\n"
     ]
    }
   ],
   "source": [
    ">>> print(note)"
   ]
  },
  {
   "cell_type": "markdown",
   "metadata": {},
   "source": [
    "In fact, triple-quoted strings will retain all the enclosed text, including any to the right of your code that you might intend as comments. To avoid this put comments above or below the quoted text. Triple-quoted strings are useful anytime you need multiline text in your program; for example, to embed multiline error messages or HTML, XML, or JSON code in your Python source code files.\n",
    "<br>\n",
    "Triple-quoted strings are also commonly used for documentation strings, which are string literals that are taken as comments when they appear at specific points in your file. Triple-quoted strings are used to disable certain lines of code during development.\n",
    "<br>\n",
    "<h2> Strings in Action </h2>\n",
    "The actions here refer to string expression, methods and formatting.\n",
    "<br>\n",
    "BASIC OPERATIONS:\n",
    "<br>\n",
    "Strings can be concatenated using the + operator and repeated using * operator."
   ]
  },
  {
   "cell_type": "code",
   "execution_count": 24,
   "metadata": {},
   "outputs": [
    {
     "data": {
      "text/plain": [
       "3"
      ]
     },
     "execution_count": 24,
     "metadata": {},
     "output_type": "execute_result"
    }
   ],
   "source": [
    ">>> a = 'abc'\n",
    ">>> len(a)"
   ]
  },
  {
   "cell_type": "code",
   "execution_count": 25,
   "metadata": {},
   "outputs": [
    {
     "data": {
      "text/plain": [
       "'abcdef'"
      ]
     },
     "execution_count": 25,
     "metadata": {},
     "output_type": "execute_result"
    }
   ],
   "source": [
    ">>> a + 'def'         #concatenation of  a string"
   ]
  },
  {
   "cell_type": "code",
   "execution_count": 26,
   "metadata": {},
   "outputs": [
    {
     "data": {
      "text/plain": [
       "'abcabcabcabc'"
      ]
     },
     "execution_count": 26,
     "metadata": {},
     "output_type": "execute_result"
    }
   ],
   "source": [
    ">>> a * 4              #repetition of string 'abc'"
   ]
  },
  {
   "cell_type": "markdown",
   "metadata": {},
   "source": [
    "Operator overloading is used here as the same + is used for add as well as concatenation and the * operator is used for multiplication as well as repetition. One cannot mix numbers and strings using + operator, it gives an error."
   ]
  },
  {
   "cell_type": "code",
   "execution_count": 27,
   "metadata": {},
   "outputs": [
    {
     "ename": "TypeError",
     "evalue": "must be str, not int",
     "output_type": "error",
     "traceback": [
      "\u001b[1;31m---------------------------------------------------------------------------\u001b[0m",
      "\u001b[1;31mTypeError\u001b[0m                                 Traceback (most recent call last)",
      "\u001b[1;32m<ipython-input-27-92df77571af8>\u001b[0m in \u001b[0;36m<module>\u001b[1;34m()\u001b[0m\n\u001b[1;32m----> 1\u001b[1;33m \u001b[1;34m'abc'\u001b[0m \u001b[1;33m+\u001b[0m \u001b[1;36m9\u001b[0m\u001b[1;33m\u001b[0m\u001b[0m\n\u001b[0m",
      "\u001b[1;31mTypeError\u001b[0m: must be str, not int"
     ]
    }
   ],
   "source": [
    ">>> 'abc' + 9"
   ]
  },
  {
   "cell_type": "markdown",
   "metadata": {},
   "source": [
    "Strings can also be iterated in loops using for statements. This repeats the action as well as tests membership for characters and substrings using the 'in' expression operator. The latter is a search which returns a Boolean result."
   ]
  },
  {
   "cell_type": "code",
   "execution_count": 40,
   "metadata": {},
   "outputs": [
    {
     "name": "stdout",
     "output_type": "stream",
     "text": [
      "mypythoncode"
     ]
    }
   ],
   "source": [
    ">>> note = 'mypythoncode'\n",
    ">>> for i in note: print(i, end='')"
   ]
  },
  {
   "cell_type": "markdown",
   "metadata": {},
   "source": [
    "The for loop assigns a variable to successive items in a sequence and executes one or more statements each item. The variable i here acts as a cursor which steps across each item of the string."
   ]
  },
  {
   "cell_type": "code",
   "execution_count": 37,
   "metadata": {},
   "outputs": [
    {
     "data": {
      "text/plain": [
       "True"
      ]
     },
     "execution_count": 37,
     "metadata": {},
     "output_type": "execute_result"
    }
   ],
   "source": [
    ">>> 'm' in note"
   ]
  },
  {
   "cell_type": "code",
   "execution_count": 39,
   "metadata": {},
   "outputs": [
    {
     "data": {
      "text/plain": [
       "False"
      ]
     },
     "execution_count": 39,
     "metadata": {},
     "output_type": "execute_result"
    }
   ],
   "source": [
    ">>> 'r' in note"
   ]
  },
  {
   "cell_type": "markdown",
   "metadata": {},
   "source": [
    "INDEXING AND SLICING\n",
    "<br>\n",
    "Strings are ordered lists of characters and hence we can access its components by position. In Python, characters in a string are fetched by indexing i.e. providing the numeric offset of the desired component in square brackets after the string. The output is the one-character string at the specified position. Like C, Python allows you to set offset from 0 till the end which is one less than the string length. However, unlike C Python allows the use of negative offsets. The negative offset is added to the length of the string to derive a positive offset. The negative offset can be thought of as counting from the back."
   ]
  },
  {
   "cell_type": "code",
   "execution_count": 41,
   "metadata": {},
   "outputs": [
    {
     "data": {
      "text/plain": [
       "('p', 'h')"
      ]
     },
     "execution_count": 41,
     "metadata": {},
     "output_type": "execute_result"
    }
   ],
   "source": [
    ">>> s = 'python'           #positive and negative indexing\n",
    ">>> s[0], s[-3]"
   ]
  },
  {
   "cell_type": "code",
   "execution_count": 42,
   "metadata": {},
   "outputs": [
    {
     "data": {
      "text/plain": [
       "('pyt', 'th', 'hon')"
      ]
     },
     "execution_count": 42,
     "metadata": {},
     "output_type": "execute_result"
    }
   ],
   "source": [
    ">>> s[:3], s[2:4], s[3:]"
   ]
  },
  {
   "cell_type": "markdown",
   "metadata": {},
   "source": [
    "Slicing is a generalised form of indexing returns and entire section of the string and not a single item. The second part of code shows slicing. When nothing is mentioned before the semicolon it is considered as default start and nothing mentioned at the end considers everything till the end.  Probably the best way to think of slicing is that it is a type of parsing (analyzing structure), especially when applied to strings—it allows us to extract an entire section (substring) in a single step. Slices can be used to extract columns of data, chop off leading and trailing text, and more. The basics of slicing are straightforward. When you index a sequence object such as a string on a pair of offsets separated by a colon, Python returns a new object containing the contiguous section identified by the offset pair. The left offset is taken to be the lower bound (inclusive), and the right is the upper bound (noninclusive). Everything from the lower boundary is considered but the upper boundary is not included.\n",
    "<br>\n",
    "EXTENDED SLICING: THE THIRD LIMIT AND SLICE OBJECTS\n",
    "<br>\n",
    "Python has support for an optional third index slice expression used as a step known as a stride.  It is represented by X[I:J:k]. This fetches the values from I through J-1. The value of K can be used to skip numbers at specific intervals or to reverse the order."
   ]
  },
  {
   "cell_type": "code",
   "execution_count": 44,
   "metadata": {},
   "outputs": [
    {
     "data": {
      "text/plain": [
       "'2468'"
      ]
     },
     "execution_count": 44,
     "metadata": {},
     "output_type": "execute_result"
    }
   ],
   "source": [
    ">>> x = '123456789'\n",
    ">>> x[1:8:2]"
   ]
  },
  {
   "cell_type": "markdown",
   "metadata": {},
   "source": [
    "Here every second number is fetched between the offsets 1-8. It collects the offsets 1,3,5 and 7. Using negative stride would reverse the order of the string. When reversing a stride the first two bounds also need to be reversed"
   ]
  },
  {
   "cell_type": "code",
   "execution_count": 52,
   "metadata": {},
   "outputs": [
    {
     "data": {
      "text/plain": [
       "'98765432'"
      ]
     },
     "execution_count": 52,
     "metadata": {},
     "output_type": "execute_result"
    }
   ],
   "source": [
    ">>> x[8:0:-1]"
   ]
  },
  {
   "cell_type": "markdown",
   "metadata": {},
   "source": [
    "<h2> String Conversion Tools </h2>\n",
    "Since a number and a string cannot be added together we use conversion tools before treating a number as strings or vice versa. int function converts string to a number and str converts number to a string. The repr function converts to string object representation as an object of code that can be rerun to create the object\n"
   ]
  },
  {
   "cell_type": "code",
   "execution_count": 56,
   "metadata": {},
   "outputs": [
    {
     "data": {
      "text/plain": [
       "(24, '24')"
      ]
     },
     "execution_count": 56,
     "metadata": {},
     "output_type": "execute_result"
    }
   ],
   "source": [
    ">>> int('24'), str(24)          #converting to integer, converting  to string"
   ]
  },
  {
   "cell_type": "code",
   "execution_count": 59,
   "metadata": {},
   "outputs": [
    {
     "data": {
      "text/plain": [
       "'24'"
      ]
     },
     "execution_count": 59,
     "metadata": {},
     "output_type": "execute_result"
    }
   ],
   "source": [
    ">>> repr(24)                    #coverting to string"
   ]
  },
  {
   "cell_type": "markdown",
   "metadata": {},
   "source": [
    "Operands can be manually converted to mix strings and number types. This conversion can be carried out in the same way for floating point numbers."
   ]
  },
  {
   "cell_type": "code",
   "execution_count": 62,
   "metadata": {},
   "outputs": [
    {
     "data": {
      "text/plain": [
       "27"
      ]
     },
     "execution_count": 62,
     "metadata": {},
     "output_type": "execute_result"
    }
   ],
   "source": [
    ">>> s = '24'   \n",
    ">>> t = 3\n",
    ">>> int(s) + t         #addition"
   ]
  },
  {
   "cell_type": "code",
   "execution_count": 66,
   "metadata": {},
   "outputs": [
    {
     "data": {
      "text/plain": [
       "'243'"
      ]
     },
     "execution_count": 66,
     "metadata": {},
     "output_type": "execute_result"
    }
   ],
   "source": [
    ">>> s + str(t)          #concatenation"
   ]
  },
  {
   "cell_type": "code",
   "execution_count": 71,
   "metadata": {},
   "outputs": [
    {
     "data": {
      "text/plain": [
       "('234.5', 6.7)"
      ]
     },
     "execution_count": 71,
     "metadata": {},
     "output_type": "execute_result"
    }
   ],
   "source": [
    ">>> str(234.5), float('6.7')"
   ]
  },
  {
   "cell_type": "markdown",
   "metadata": {},
   "source": [
    "CHARACTER CODE CONVERSIONS\n",
    "<br>\n",
    "Characters can be converted to their corresponding integer code(ASCII value) which is stored in the memory using the built-in ord <b> ord </b> function. The <b> chr </b> function performs the reverse by taking the integer and converting it into the corresponding character."
   ]
  },
  {
   "cell_type": "code",
   "execution_count": 91,
   "metadata": {},
   "outputs": [
    {
     "data": {
      "text/plain": [
       "97"
      ]
     },
     "execution_count": 91,
     "metadata": {},
     "output_type": "execute_result"
    }
   ],
   "source": [
    ">>> ord('a')"
   ]
  },
  {
   "cell_type": "code",
   "execution_count": 93,
   "metadata": {},
   "outputs": [
    {
     "data": {
      "text/plain": [
       "'a'"
      ]
     },
     "execution_count": 93,
     "metadata": {},
     "output_type": "execute_result"
    }
   ],
   "source": [
    ">>> chr(97)"
   ]
  },
  {
   "cell_type": "markdown",
   "metadata": {},
   "source": [
    "The <b> ord </b> and <b> chr </b> function can be used to perform string math."
   ]
  },
  {
   "cell_type": "code",
   "execution_count": 97,
   "metadata": {},
   "outputs": [
    {
     "data": {
      "text/plain": [
       "'7'"
      ]
     },
     "execution_count": 97,
     "metadata": {},
     "output_type": "execute_result"
    }
   ],
   "source": [
    ">>> S = '6'\n",
    ">>> S = chr(ord(S) + 1) \n",
    ">>> S"
   ]
  },
  {
   "cell_type": "code",
   "execution_count": 99,
   "metadata": {},
   "outputs": [
    {
     "data": {
      "text/plain": [
       "'8'"
      ]
     },
     "execution_count": 99,
     "metadata": {},
     "output_type": "execute_result"
    }
   ],
   "source": [
    ">>> S = chr(ord(S) + 1) \n",
    ">>> S"
   ]
  },
  {
   "cell_type": "markdown",
   "metadata": {},
   "source": [
    "It provides an alternative to using int to convert from string to integer for sinlge character strings."
   ]
  },
  {
   "cell_type": "code",
   "execution_count": 104,
   "metadata": {},
   "outputs": [
    {
     "data": {
      "text/plain": [
       "5"
      ]
     },
     "execution_count": 104,
     "metadata": {},
     "output_type": "execute_result"
    }
   ],
   "source": [
    ">>> int('5')"
   ]
  },
  {
   "cell_type": "code",
   "execution_count": 115,
   "metadata": {},
   "outputs": [
    {
     "data": {
      "text/plain": [
       "5"
      ]
     },
     "execution_count": 115,
     "metadata": {},
     "output_type": "execute_result"
    }
   ],
   "source": [
    ">>> ord('5') - ord('0')"
   ]
  },
  {
   "cell_type": "markdown",
   "metadata": {},
   "source": [
    "<b>CHANGING STRINGS </b>\n",
    "<br>\n",
    "To change a string we need to build and assign a new string using string tools such as concatenation and slicing and then assign the result back to the strings original name."
   ]
  },
  {
   "cell_type": "code",
   "execution_count": 117,
   "metadata": {},
   "outputs": [
    {
     "data": {
      "text/plain": [
       "'pythoncode!!'"
      ]
     },
     "execution_count": 117,
     "metadata": {},
     "output_type": "execute_result"
    }
   ],
   "source": [
    ">>> s = 'python'\n",
    ">>> s = s + 'code!!'\n",
    ">>> s"
   ]
  },
  {
   "cell_type": "code",
   "execution_count": 120,
   "metadata": {},
   "outputs": [
    {
     "data": {
      "text/plain": [
       "'pythonlanguage!!'"
      ]
     },
     "execution_count": 120,
     "metadata": {},
     "output_type": "execute_result"
    }
   ],
   "source": [
    ">>> s[:6] + 'language' + s[-1] + s[-2]"
   ]
  },
  {
   "cell_type": "markdown",
   "metadata": {},
   "source": [
    "Changing strings can also be done by using string method <b> replace </b> "
   ]
  },
  {
   "cell_type": "code",
   "execution_count": 123,
   "metadata": {},
   "outputs": [
    {
     "data": {
      "text/plain": [
       "'pytholcodes!!'"
      ]
     },
     "execution_count": 123,
     "metadata": {},
     "output_type": "execute_result"
    }
   ],
   "source": [
    ">>> s = s.replace('de','des')\n",
    ">>> s"
   ]
  },
  {
   "cell_type": "markdown",
   "metadata": {},
   "source": [
    "It’s also possible to build up new text values with string formatting expressions. It substitutes objects into strings by converting the object into strings and changing original string according to the format of the string."
   ]
  },
  {
   "cell_type": "code",
   "execution_count": 126,
   "metadata": {},
   "outputs": [
    {
     "data": {
      "text/plain": [
       "'The sun is star !'"
      ]
     },
     "execution_count": 126,
     "metadata": {},
     "output_type": "execute_result"
    }
   ],
   "source": [
    ">>> 'The %s is %s !' % ('sun','star')           \n"
   ]
  },
  {
   "cell_type": "code",
   "execution_count": 131,
   "metadata": {},
   "outputs": [
    {
     "data": {
      "text/plain": [
       "'That sun is a star !'"
      ]
     },
     "execution_count": 131,
     "metadata": {},
     "output_type": "execute_result"
    }
   ],
   "source": [
    ">>> 'That {0} is a {1} !'.format('sun', 'star') "
   ]
  },
  {
   "cell_type": "markdown",
   "metadata": {},
   "source": [
    "<h2> String Methods </h2>\n",
    "In Python, methods are object type specific and do not work across a range of types.\n",
    "<br>\n",
    "METHOD CALL SYNTAX\n",
    "<br>\n",
    "Methods are functions that are associated with and act upon particular objects. \n",
    "<br>\n",
    "<b> Attribute Fetches </b>\n",
    "<br>\n",
    "Expression of the form object.attribute which fetches the value of attribute in object.\n",
    "<br>\n",
    "<b> Call Expressions </b>\n",
    "<br>\n",
    "Expression of the form function(arguements) which invokes the code of function, passing zero or more comma-separated argument objects to it, and return function’s result value.\n",
    "<br>\n",
    "Putting attribute fetches and call expression together we get:\n",
    "<br>\n",
    "object.method(arguements).\n",
    "<br>\n",
    "Python will first call the method to process objects with arguements. Python will first call the method to process objects with arguements. "
   ]
  },
  {
   "cell_type": "markdown",
   "metadata": {},
   "source": [
    "<b> CHANGING STRINGS 2 </b>\n",
    "<br>\n",
    "We can use the built-in function list for changing strings. Once in form of list changes can be made to it without generating new copy for each change.\n"
   ]
  },
  {
   "cell_type": "code",
   "execution_count": 133,
   "metadata": {},
   "outputs": [
    {
     "data": {
      "text/plain": [
       "['p', 'y', 't', 'h', 'o', 'n']"
      ]
     },
     "execution_count": 133,
     "metadata": {},
     "output_type": "execute_result"
    }
   ],
   "source": [
    ">>> s = 'python'\n",
    ">>> l = list(s)\n",
    ">>> l"
   ]
  },
  {
   "cell_type": "code",
   "execution_count": 137,
   "metadata": {},
   "outputs": [
    {
     "data": {
      "text/plain": [
       "['p', 'y', 't', 'h', 'a', 'l']"
      ]
     },
     "execution_count": 137,
     "metadata": {},
     "output_type": "execute_result"
    }
   ],
   "source": [
    ">>> l[4] = 'a'\n",
    ">>> l[5] = 'l'\n",
    ">>> l"
   ]
  },
  {
   "cell_type": "markdown",
   "metadata": {},
   "source": [
    "<b> PARSING TEXT </b>\n",
    "<br>\n",
    "Another role of string methods is text parsing that is analizing structure and extracting substrings."
   ]
  },
  {
   "cell_type": "code",
   "execution_count": 149,
   "metadata": {},
   "outputs": [
    {
     "data": {
      "text/plain": [
       "'aaa'"
      ]
     },
     "execution_count": 149,
     "metadata": {},
     "output_type": "execute_result"
    }
   ],
   "source": [
    ">>> l = 'aaabbbccc'\n",
    ">>> a = l[:3]                    #extract substring at fixed offset\n",
    ">>> b = l[6:]\n",
    ">>> a"
   ]
  },
  {
   "cell_type": "code",
   "execution_count": 150,
   "metadata": {},
   "outputs": [
    {
     "data": {
      "text/plain": [
       "'ccc'"
      ]
     },
     "execution_count": 150,
     "metadata": {},
     "output_type": "execute_result"
    }
   ],
   "source": [
    ">>> b"
   ]
  },
  {
   "cell_type": "code",
   "execution_count": 153,
   "metadata": {},
   "outputs": [
    {
     "data": {
      "text/plain": [
       "['aaa', 'bbb', 'ccc']"
      ]
     },
     "execution_count": 153,
     "metadata": {},
     "output_type": "execute_result"
    }
   ],
   "source": [
    ">>> l = 'aaa bbb ccc'        #no delimiter\n",
    ">>> c = l.split()             #spliting at arbitrary positions within the string\n",
    ">>> c"
   ]
  },
  {
   "cell_type": "code",
   "execution_count": 154,
   "metadata": {},
   "outputs": [
    {
     "data": {
      "text/plain": [
       "['aaa', 'bbb', 'ccc']"
      ]
     },
     "execution_count": 154,
     "metadata": {},
     "output_type": "execute_result"
    }
   ],
   "source": [
    ">>> l = 'aaa,bbb,ccc'        #delimiter\n",
    ">>> c = l.split(',')\n",
    ">>> c"
   ]
  },
  {
   "cell_type": "markdown",
   "metadata": {},
   "source": [
    "<h2> String Formatting Expressions </h2>\n",
    "String formatting allows us to perform multiple type-specific substitutions on a string in a single step. String formatting is of two types:\n",
    "<br>\n",
    "<ul>\n",
    "    <li> String formatting expressions:</li>\n",
    "        The original technique available since Python’s inception, this form is based upon the C language’s “printf” model, and sees widespread use in much existing code.\n",
    "    <li> String formatting method calls: </li>\n",
    "           A newer technique derived in part from a same-named tool in C#/.NET, and overlaps with string formatting expression functionality.\n",
    "    </ul>\n",
    "    <br>\n",
    " <b> Formatting Expression </b>\n",
    "    <br>\n",
    "  When applied to strings, the % operator provides a simple way to format values as strings according to a format definition. The % operator provides a compact way to code multiple string substitutions all at once, instead of building and concatenating parts individually.\n",
    "  <br>\n",
    "  To format strings:\n",
    "  <br>\n",
    "  1.On the left of the % operator, provide a format string containing one or more embedded conversion targets, each of which starts with a % (e.g., %d).\n",
    "\n",
    "2.On the right of the % operator, provide the object (or objects, embedded in a tuple) that you want Python to insert into the format string on the left in place of the conversion target (or targets). \n"
   ]
  },
  {
   "cell_type": "code",
   "execution_count": 157,
   "metadata": {},
   "outputs": [
    {
     "data": {
      "text/plain": [
       "'This is python code'"
      ]
     },
     "execution_count": 157,
     "metadata": {},
     "output_type": "execute_result"
    }
   ],
   "source": [
    ">>> 'This is %s %s' %('python','code')"
   ]
  },
  {
   "cell_type": "markdown",
   "metadata": {},
   "source": [
    "<b> Dictionary Based Formatting expressions </b>\n",
    "<br>\n",
    "String formatting also allows conversion targets on the left to refer to the keys in a dictionary coded on the right and fetch the corresponding values. "
   ]
  },
  {
   "cell_type": "code",
   "execution_count": 162,
   "metadata": {},
   "outputs": [
    {
     "data": {
      "text/plain": [
       "'1 more code'"
      ]
     },
     "execution_count": 162,
     "metadata": {},
     "output_type": "execute_result"
    }
   ],
   "source": [
    ">>> '%(quantity)d more %(python)s' % {'quantity':1, 'python':'code'}"
   ]
  },
  {
   "cell_type": "markdown",
   "metadata": {},
   "source": [
    "<h2> String Formatting Method Calls </h2>\n",
    " Unlike formatting expressions, formatting method calls are not closely based upon the C language’s “printf” model, and are sometimes more explicit in intent but it still relies on type codes and formatting specifications. \n",
    " <br>\n",
    " <b> Formatting Method Basics </b>\n",
    " <br>\n",
    " It is based on normal function call syntax. It uses the subject string as template and takes any number of arguements that represent values to be substituted according to the template."
   ]
  },
  {
   "cell_type": "code",
   "execution_count": 163,
   "metadata": {},
   "outputs": [
    {
     "data": {
      "text/plain": [
       "'book,pen and knowledge'"
      ]
     },
     "execution_count": 163,
     "metadata": {},
     "output_type": "execute_result"
    }
   ],
   "source": [
    ">>> t = '{0},{1} and {2}'              #by position\n",
    ">>> t.format('book','pen','knowledge')"
   ]
  },
  {
   "cell_type": "code",
   "execution_count": 173,
   "metadata": {},
   "outputs": [
    {
     "data": {
      "text/plain": [
       "'{book}, {pen} and {knowledge}'"
      ]
     },
     "execution_count": 173,
     "metadata": {},
     "output_type": "execute_result"
    }
   ],
   "source": [
    ">>> t =  '{book}, {pen} and {knowledge}'          #by keyword\n",
    ">>> t.format(book = 'information', pen = 'resource', knowledge = 'aim')\n",
    ">>> t"
   ]
  },
  {
   "cell_type": "markdown",
   "metadata": {},
   "source": [
    "<b> Advanced Formatting Method Syntax </b>\n",
    "<br>\n",
    "For the formatting method, we use a colon after the possibly empty substitution target’s identification, followed by a format specifier that can name the field size, justification, and a specific type code. The structure consists of four parts:\n",
    "<br>\n",
    "<ul>\n",
    "    <li> • <b> fieldname </b> is an optional number or keyword identifying an argument.</li> \n",
    "    <li> • <b> component </b> is a string of zero or more “.name” or “[index]” references used to fetch attributes and indexed values of the argument, which may be omitted to use the whole argument value. </li> \n",
    "    <li> • <b> conversionflag </b> starts with a ! if present, which is followed by r, s, or a to call repr, str, or ascii built-in functions on the value, respectively. </li>\n",
    "    <li> • <b> formatspec </b> starts with a : if present, which is followed by text that specifies how the value should be presented, including details such as field width, alignment, padding, decimal precision, and so on, and ends with an optional data type code. </li>\n",
    "    </ul>\n",
    "    The formatspec component is described as follows:\n",
    "    <br>\n",
    "    [[fill]align][sign][#][0][width][,][.precision][typecode]\n",
    "\n",
    "    "
   ]
  },
  {
   "cell_type": "code",
   "execution_count": 174,
   "metadata": {},
   "outputs": [
    {
     "data": {
      "text/plain": [
       "'spam       =   123.4567'"
      ]
     },
     "execution_count": 174,
     "metadata": {},
     "output_type": "execute_result"
    }
   ],
   "source": [
    ">>> '{0:10} = {1:10}'.format('spam', 123.4567)      "
   ]
  },
  {
   "cell_type": "markdown",
   "metadata": {},
   "source": [
    "<h2> General Type Categories </h2>\n",
    "<b> Types Share Operation Sets by Categories </b>\n",
    "<br> Strings are immutable sequences and they are positonally ordered as well and can be accessed using their offset. There are 3 major type catagories in Python:\n",
    "<br>\n",
    "<ul>\n",
    "    <li> <b> Numbers (integer, floating-point, decimal, fraction, others): </b>Support addition, multiplication </li> \n",
    "    <li> <b> Sequences (strings, lists, tuples): </b> Support indexing, slicing, concatenation </li>\n",
    "    <li> <b> Mappings (dictionaries) </b> Support indexing by key</li>\n",
    "    </ul>\n",
    "<h2> Mutable Types Can Be Changed in Place </h2>\n",
    "IMMUTABLES:<br>\n",
    "Immutable types do not support in-place changes.\n",
    "<br>\n",
    "MUTABLES:<br>\n",
    "Mutable types can be changed in place with operations without creating new objects.\n",
    "\n"
   ]
  },
  {
   "cell_type": "code",
   "execution_count": null,
   "metadata": {},
   "outputs": [],
   "source": []
  }
 ],
 "metadata": {
  "kernelspec": {
   "display_name": "Python 3",
   "language": "python",
   "name": "python3"
  },
  "language_info": {
   "codemirror_mode": {
    "name": "ipython",
    "version": 3
   },
   "file_extension": ".py",
   "mimetype": "text/x-python",
   "name": "python",
   "nbconvert_exporter": "python",
   "pygments_lexer": "ipython3",
   "version": "3.6.4"
  }
 },
 "nbformat": 4,
 "nbformat_minor": 2
}
