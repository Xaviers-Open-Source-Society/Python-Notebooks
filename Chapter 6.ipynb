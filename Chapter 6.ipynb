{
 "cells": [
  {
   "cell_type": "markdown",
   "metadata": {},
   "source": [
    "<h3>Dynamic Typing</h3><br>"
    "In Python, we do not declare the specific types of the objects our scripts use.<br>\n",
    "In Python, types are determined automatically at runtime, not in response to declarations in your code. This means that you never declare variables ahead of time.<br>\n",
    "\n",
    "<b>Variable Creation</b>\n",
    "<ul>A variable is created when your code first assigns it a value.</ul>\n",
    "<b>Variable Types</b>\n",
    "<ul>A variable never has any type information or constraints associated with it. The notion of type lives with objects, not names. Variables are generic in nature; they always simply refer to a particular object at a particular point in time.</ul>\n",
    "<b>Variable Use</b>\n",
    "<ul>When a variable appears in an expression, it is immediately replaced with the object that it currently referes to.</ul>"
   ]
  },
  {
   "cell_type": "code",
   "execution_count": 2,
   "metadata": {},
   "outputs": [],
   "source": [
    "a = 3    #Assign a name to an object."
   ]
  },
  {
   "cell_type": "markdown",
   "metadata": {},
   "source": [
    "<ol><li>Create an object to represent the value 3.</li>\n",
    "    <li>Create the variable a, if it does not yet exist</li>\n",
    "    <li>Link the variable a to the new object 3</li></ol>"
   ]
  },
  {
   "cell_type": "markdown",
   "metadata": {},
   "source": [
    "The links from variables to objects are called references in Python, that is, a reference is a kind of association, implemented as a pointer in memory.\n",
    "<ul><li>Variables are entries in a system table, with spaces for links to objects.</li>\n",
    "    <li>Objects are pieces of allocated memory, with enough space to represent the values for which they stand.</li>\n",
    "    <li>References are automatically followed pointers from variables to objects.</li>\n",
    "</ul>"
   ]
  },
  {
   "cell_type": "code",
   "execution_count": 3,
   "metadata": {},
   "outputs": [],
   "source": [
    "a = 3\n",
    "a = 'hello piglet'\n",
    "a = 1.23"
   ]
  },
  {
   "cell_type": "markdown",
   "metadata": {},
   "source": [
    "Names have no types; types live with objects, not names.\n",
    "In the preceding listing, we'hv simply changed a to reference different objects. Because variables have no type, we have not actually changed the type of the variable a; we have simply made the variable reference a different type of object.\n",
    "Objects know what type they are - each object contains a header field that tags the object with its type. The integer object 3 will contain the value 3, plus a designator that tells Python that the object is an integer."
   ]
  },
  {
   "cell_type": "markdown",
   "metadata": {},
   "source": [
    "<b>Shared References</b>"
   ]
  },
  {
   "cell_type": "code",
   "execution_count": null,
   "metadata": {},
   "outputs": [],
   "source": [
    "a = 3\n",
    "b = a"
   ]
  },
  {
   "cell_type": "markdown",
   "metadata": {},
   "source": [
    "Typing above two sentences generates a scene where the second command causes Python to create the variable b; the variable a is being used and not assigend here, so it is replaced with the object it references, 3, and b is made to reference that obect. The net effect is that the variables a and b wind up referencing the same object, 3.<br>\n",
    "<i>This scenario in Python - with multiple names referenceing the same object - is usually called a shared reference.</i>"
   ]
  },
  {
   "cell_type": "markdown",
   "metadata": {},
   "source": [
    "<b>Shared References and In-Place Changes</b>"
   ]
  },
  {
   "cell_type": "code",
   "execution_count": 4,
   "metadata": {},
   "outputs": [],
   "source": [
    "List1 = [2, 3, 4]\n",
    "List2 = List1"
   ]
  },
  {
   "cell_type": "markdown",
   "metadata": {},
   "source": [
    "List1, which also an object, is a list containing the objects 2,3, and 4.<br>\n",
    "As we have seen in Shared References, here, List1 and List2 reference the same shared object, just like a and b in the prior example."
   ]
  },
  {
   "cell_type": "code",
   "execution_count": 5,
   "metadata": {},
   "outputs": [],
   "source": [
    "List1 = 24"
   ]
  },
  {
   "cell_type": "markdown",
   "metadata": {},
   "source": [
    "But above operation on List1 simply sets it to a different object; List2 still references to the original list."
   ]
  },
  {
   "cell_type": "code",
   "execution_count": 6,
   "metadata": {},
   "outputs": [
    {
     "data": {
      "text/plain": [
       "24"
      ]
     },
     "execution_count": 6,
     "metadata": {},
     "output_type": "execute_result"
    }
   ],
   "source": [
    "List1"
   ]
  },
  {
   "cell_type": "code",
   "execution_count": 7,
   "metadata": {},
   "outputs": [
    {
     "data": {
      "text/plain": [
       "[2, 3, 4]"
      ]
     },
     "execution_count": 7,
     "metadata": {},
     "output_type": "execute_result"
    }
   ],
   "source": [
    "List2"
   ]
  },
  {
   "cell_type": "markdown",
   "metadata": {},
   "source": [
    "But if we change above assignments's syntax slightly, it has a different effect:"
   ]
  },
  {
   "cell_type": "code",
   "execution_count": 10,
   "metadata": {},
   "outputs": [],
   "source": [
    "List1 = [2, 3, 4]\n",
    "List2 = List1\n",
    "List1[0] = 24"
   ]
  },
  {
   "cell_type": "code",
   "execution_count": 11,
   "metadata": {},
   "outputs": [
    {
     "data": {
      "text/plain": [
       "[24, 3, 4]"
      ]
     },
     "execution_count": 11,
     "metadata": {},
     "output_type": "execute_result"
    }
   ],
   "source": [
    "List1"
   ]
  },
  {
   "cell_type": "code",
   "execution_count": 12,
   "metadata": {},
   "outputs": [
    {
     "data": {
      "text/plain": [
       "[24, 3, 4]"
      ]
     },
     "execution_count": 12,
     "metadata": {},
     "output_type": "execute_result"
    }
   ],
   "source": [
    "List2"
   ]
  },
  {
   "cell_type": "markdown",
   "metadata": {},
   "source": [
    "Above thing happens becuase we have not changed List1 itself here but instead we have changed a component of the object that List1 references.<br>\n",
    "This sort of change overwrites part of the list object's value in place. And since our list object is shared by other variables, an in place change like this affects both the variables, here, List1 and List2.<br>\n",
    "<i><b>This behaviour only occurs for mutable objects that support in-place changes.</b></i>"
   ]
  },
  {
   "cell_type": "markdown",
   "metadata": {},
   "source": [
    "<b>Quiz</b>\n",
    "<ol><li>Consider the following three statements. Do they changes the value printed for A?<br>\n",
    "    <ul><li>A = \"Cow\"</li>\n",
    "        <li>B = A</li>\n",
    "        <li>B = \"Piglet\"</li></ul></li></ol>"
   ]
  },
  {
   "cell_type": "markdown",
   "metadata": {},
   "source": [
    "Answer: No. "
   ]
  },
  {
   "cell_type": "markdown",
   "metadata": {},
   "source": [
    "<i><b>                                   Created by: meraki</b></i>"
   ]
  }
 ],
 "metadata": {
  "kernelspec": {
   "display_name": "Python 3",
   "language": "python",
   "name": "python3"
  },
  "language_info": {
   "codemirror_mode": {
    "name": "ipython",
    "version": 3
   },
   "file_extension": ".py",
   "mimetype": "text/x-python",
   "name": "python",
   "nbconvert_exporter": "python",
   "pygments_lexer": "ipython3",
   "version": "3.6.4"
  }
 },
 "nbformat": 4,
 "nbformat_minor": 2
}
